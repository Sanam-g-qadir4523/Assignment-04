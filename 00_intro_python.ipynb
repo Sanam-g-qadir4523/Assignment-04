{
  "nbformat": 4,
  "nbformat_minor": 0,
  "metadata": {
    "colab": {
      "provenance": [],
      "authorship_tag": "ABX9TyOnOIGlQIb5bbcWYcs9Kmmr",
      "include_colab_link": true
    },
    "kernelspec": {
      "name": "python3",
      "display_name": "Python 3"
    },
    "language_info": {
      "name": "python"
    }
  },
  "cells": [
    {
      "cell_type": "markdown",
      "metadata": {
        "id": "view-in-github",
        "colab_type": "text"
      },
      "source": [
        "<a href=\"https://colab.research.google.com/github/Sanam-g-qadir4523/Assignment-04/blob/main/00_intro_python.ipynb\" target=\"_parent\"><img src=\"https://colab.research.google.com/assets/colab-badge.svg\" alt=\"Open In Colab\"/></a>"
      ]
    },
    {
      "cell_type": "code",
      "execution_count": 1,
      "metadata": {
        "colab": {
          "base_uri": "https://localhost:8080/"
        },
        "id": "OE-xcYzjgY0p",
        "outputId": "24645d19-27c8-4d0e-ad8a-cf72c332147a"
      },
      "outputs": [
        {
          "output_type": "stream",
          "name": "stdout",
          "text": [
            "01_add_two_numbers\n",
            "This application is for adding two numbers\n",
            "Enter your first number: 5\n",
            "Enter your second number: 8\n",
            "The total sum of 5 and 8 is 13\n"
          ]
        }
      ],
      "source": [
        "print(\"01_add_two_numbers\")\n",
        "\n",
        "def add():\n",
        "    print(\"This application is for adding two numbers\")\n",
        "    first_number = int(input(\"Enter your first number: \"))\n",
        "    second_number = int(input(\"Enter your second number: \"))\n",
        "    total = first_number + second_number\n",
        "    print(f\"The total sum of {first_number} and {second_number} is {total}\")\n",
        "\n",
        "if __name__ == \"__main__\":\n",
        "    add()\n"
      ]
    },
    {
      "cell_type": "code",
      "source": [
        "print(\"02_agreement_bot\")\n",
        "\n",
        "def bot():\n",
        "    animal = input(\"What is your favorite animal? \").strip().capitalize()\n",
        "    print(f\"Wow! My favorite animal is also {animal}!\")\n",
        "\n",
        "if __name__ == \"__main__\":\n",
        "    bot()\n",
        "\n"
      ],
      "metadata": {
        "colab": {
          "base_uri": "https://localhost:8080/"
        },
        "id": "eRf6VdbBhEgQ",
        "outputId": "df4004b2-1a98-4f86-9ef3-2a8fbef11d5f"
      },
      "execution_count": 3,
      "outputs": [
        {
          "output_type": "stream",
          "name": "stdout",
          "text": [
            "02_agreement_bot\n",
            "What is your favorite animal? cat\n",
            "Wow! My favorite animal is also Cat!\n"
          ]
        }
      ]
    },
    {
      "cell_type": "code",
      "source": [
        "print(\"03_fahrenheit_to_celsius\")\n",
        "\n",
        "def temp():\n",
        "    print(\"This code converts Fahrenheit to Celsius.\")\n",
        "    fahrenheit_degree = float(input(\"Enter your Fahrenheit degree: \"))\n",
        "    celsius_degree = (fahrenheit_degree - 32) * 5.0 / 9.0\n",
        "    print(f\"Temperature {fahrenheit_degree}°F is equal to {celsius_degree:.2f}°C.\")\n",
        "\n",
        "if __name__ == \"__main__\":\n",
        "    temp()\n"
      ],
      "metadata": {
        "colab": {
          "base_uri": "https://localhost:8080/"
        },
        "id": "NZJEOmrAhLUP",
        "outputId": "3773238b-ebc2-48ea-87bf-02b80dee49c5"
      },
      "execution_count": 4,
      "outputs": [
        {
          "output_type": "stream",
          "name": "stdout",
          "text": [
            "03_fahrenheit_to_celsius\n",
            "This code converts Fahrenheit to Celsius.\n",
            "Enter your Fahrenheit degree: 76\n",
            "Temperature 76.0°F is equal to 24.44°C.\n"
          ]
        }
      ]
    },
    {
      "cell_type": "code",
      "source": [
        "print(\"04_how_old_are_they\")\n",
        "\n",
        "def add_ages():\n",
        "    anton_int = 21\n",
        "    beth_int = anton_int + 6\n",
        "    chen_int = beth_int + 20\n",
        "    drew_int = chen_int + anton_int\n",
        "    ethan_int = chen_int\n",
        "\n",
        "    print(\"Anton is \" + str(anton_int))\n",
        "    print(\"Beth is \" + str(beth_int))\n",
        "    print(\"Chen is \" + str(chen_int))\n",
        "    print(\"Drew is \" + str(drew_int))\n",
        "    print(\"Ethan is \" + str(ethan_int))\n",
        "\n",
        "add_ages()\n"
      ],
      "metadata": {
        "colab": {
          "base_uri": "https://localhost:8080/"
        },
        "id": "26QCAUmThzH8",
        "outputId": "e4316b85-f337-4d36-921c-39633887eb8e"
      },
      "execution_count": 5,
      "outputs": [
        {
          "output_type": "stream",
          "name": "stdout",
          "text": [
            "04_how_old_are_they\n",
            "Anton is 21\n",
            "Beth is 27\n",
            "Chen is 47\n",
            "Drew is 68\n",
            "Ethan is 47\n"
          ]
        }
      ]
    },
    {
      "cell_type": "code",
      "source": [
        "print(\"triangle_perimeter\")\n",
        "\n",
        "def triangle():\n",
        "    print(\"This code calculates the perimeter of a triangle\")\n",
        "    side1 = float(input(\"Enter the length of first side: \"))\n",
        "    side2 = float(input(\"Enter the length of second side: \"))\n",
        "    side3 = float(input(\"Enter the length of third side: \"))\n",
        "    perimeter = side1 + side2 + side3\n",
        "    print(f\"The perimeter of triangle with sides {side1}, {side2} and {side3} is {perimeter}\")\n",
        "\n",
        "if __name__ == \"__main__\":\n",
        "    triangle()\n"
      ],
      "metadata": {
        "colab": {
          "base_uri": "https://localhost:8080/"
        },
        "id": "CAhJeEd_h8GB",
        "outputId": "10a46684-9073-404c-c5cc-0448081549ce"
      },
      "execution_count": 6,
      "outputs": [
        {
          "output_type": "stream",
          "name": "stdout",
          "text": [
            "triangle_perimeter\n",
            "This code calculates the perimeter of a triangle\n",
            "Enter the length of first side: 10\n",
            "Enter the length of second side: 30\n",
            "Enter the length of third side: 20\n",
            "The perimeter of triangle with sides 10.0, 30.0 and 20.0 is 60.0\n"
          ]
        }
      ]
    },
    {
      "cell_type": "code",
      "source": [
        "print(\"square_number\")\n",
        "\n",
        "def square():\n",
        "    print(\"This code calculates the square of a given number\")\n",
        "    num = int(input(\"Enter any number and I will give you its square value: \"))\n",
        "    square_value = num ** 2\n",
        "    print(f\"The square of {num} is {square_value}\")\n",
        "\n",
        "if __name__ == \"__main__\":\n",
        "    square()\n"
      ],
      "metadata": {
        "colab": {
          "base_uri": "https://localhost:8080/"
        },
        "id": "IiV6LZB5icSS",
        "outputId": "af6b0b4f-310c-4dc8-c226-7e35a6320ab3"
      },
      "execution_count": 8,
      "outputs": [
        {
          "output_type": "stream",
          "name": "stdout",
          "text": [
            "square_number\n",
            "This code calculates the square of a given number\n",
            "Enter any number and I will give you its square value: 77\n",
            "The square of 77 is 5929\n"
          ]
        }
      ]
    }
  ]
}